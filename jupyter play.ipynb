{
 "cells": [
  {
   "cell_type": "code",
   "execution_count": 17,
   "metadata": {},
   "outputs": [],
   "source": [
    "\n",
    "import psycopg2\n",
    "\n",
    "\n",
    "def _get_db_connection_string():\n",
    "    dbname = 'dexibit'\n",
    "    user = 'readme'\n",
    "    host = 'dexibit-production.chhletjaa2dx.us-west-2.rds.amazonaws.com'\n",
    "    password = '98#fqm@DEX'\n",
    "    port = '5432'\n",
    "    connection_string = \"host={} port={} dbname={} user={} password={}\".format(host, port, dbname, user, password)\n",
    "    return connection_string\n",
    "\n",
    "def _get_db_data(psql_string):\n",
    "    connection_string = _get_db_connection_string()\n",
    "    connection = psycopg2.connect(connection_string)\n",
    "    cursor = connection.cursor()\n",
    "    cursor.execute(psql_string)\n",
    "    rows = cursor.fetchall()\n",
    "    return rows\n",
    "\n",
    "def check_facebook_data(venue_id,days):\n",
    "    psql = \"\"\"SELECT followers, record_date \n",
    "                        FROM social_media_followers \n",
    "                        WHERE venue_id = {} AND platform = 'Facebook'\n",
    "                        ORDER BY record_date DESC \n",
    "                        LIMIT {}\"\"\".format(venue_id,days)\n",
    "    venue_fb_data = _get_db_data(psql)\n",
    "    return venue_fb_data\n",
    "\n",
    "\n"
   ]
  },
  {
   "cell_type": "code",
   "execution_count": 18,
   "metadata": {},
   "outputs": [
    {
     "name": "stdout",
     "output_type": "stream",
     "text": [
      "[(53259, datetime.datetime(2018, 1, 7, 0, 0)), (53242, datetime.datetime(2018, 1, 6, 0, 0)), (53224, datetime.datetime(2018, 1, 5, 0, 0)), (53218, datetime.datetime(2018, 1, 4, 0, 0)), (53203, datetime.datetime(2018, 1, 3, 0, 0)), (53198, datetime.datetime(2018, 1, 2, 0, 0)), (53191, datetime.datetime(2018, 1, 1, 0, 0)), (53173, datetime.datetime(2017, 12, 31, 0, 0)), (53171, datetime.datetime(2017, 12, 30, 0, 0)), (53158, datetime.datetime(2017, 12, 29, 0, 0)), (53159, datetime.datetime(2017, 12, 28, 0, 0)), (53146, datetime.datetime(2017, 12, 27, 0, 0)), (53148, datetime.datetime(2017, 12, 26, 0, 0)), (53144, datetime.datetime(2017, 12, 25, 0, 0)), (53132, datetime.datetime(2017, 12, 24, 0, 0)), (53125, datetime.datetime(2017, 12, 23, 0, 0)), (53122, datetime.datetime(2017, 12, 22, 0, 0)), (53112, datetime.datetime(2017, 12, 21, 0, 0)), (53101, datetime.datetime(2017, 12, 20, 0, 0)), (53102, datetime.datetime(2017, 12, 19, 0, 0))]\n"
     ]
    }
   ],
   "source": [
    "datatest = check_facebook_data(226,20)\n",
    "print(datatest)"
   ]
  },
  {
   "cell_type": "code",
   "execution_count": 4,
   "metadata": {},
   "outputs": [],
   "source": [
    "import pandas as pd\n",
    "import numpy as np\n",
    "import scipy as sp\n",
    "import plotly\n",
    "\n",
    "plotly.tools.set_credentials_file(username='camtodd1123', api_key='t9GuBQpann4bLJ1k6ONV')"
   ]
  },
  {
   "cell_type": "code",
   "execution_count": 7,
   "metadata": {},
   "outputs": [
    {
     "data": {
      "text/html": [
       "<iframe id=\"igraph\" scrolling=\"no\" style=\"border:none;\" seamless=\"seamless\" src=\"https://plot.ly/~camtodd1123/1.embed\" height=\"525px\" width=\"100%\"></iframe>"
      ],
      "text/plain": [
       "<plotly.tools.PlotlyDisplay object>"
      ]
     },
     "execution_count": 7,
     "metadata": {},
     "output_type": "execute_result"
    }
   ],
   "source": [
    "import plotly.plotly as py\n",
    "from plotly.graph_objs import *\n",
    "\n",
    "trace0 = Scatter(\n",
    "    x=[1, 2, 3, 4],\n",
    "    y=[10, 15, 13, 17]\n",
    ")\n",
    "trace1 = Scatter(\n",
    "    x=[1, 2, 3, 4],\n",
    "    y=[16, 5, 11, 9]\n",
    ")\n",
    "data = Data([trace0, trace1])\n",
    "\n",
    "py.iplot(data, filename = 'basic-line')\n",
    "\n"
   ]
  },
  {
   "cell_type": "code",
   "execution_count": 8,
   "metadata": {},
   "outputs": [
    {
     "data": {
      "text/html": [
       "<script>requirejs.config({paths: { 'plotly': ['https://cdn.plot.ly/plotly-latest.min']},});if(!window.Plotly) {{require(['plotly'],function(plotly) {window.Plotly=plotly;});}}</script>"
      ],
      "text/vnd.plotly.v1+html": [
       "<script>requirejs.config({paths: { 'plotly': ['https://cdn.plot.ly/plotly-latest.min']},});if(!window.Plotly) {{require(['plotly'],function(plotly) {window.Plotly=plotly;});}}</script>"
      ]
     },
     "metadata": {},
     "output_type": "display_data"
    },
    {
     "data": {
      "application/vnd.plotly.v1+json": {
       "data": [
        {
         "type": "scatter",
         "x": [
          1,
          2,
          3,
          4
         ],
         "y": [
          4,
          3,
          2,
          1
         ]
        }
       ],
       "layout": {
        "title": "hello world"
       }
      },
      "text/html": [
       "<div id=\"d1f7cc30-40af-4b9e-9288-30b5f7268723\" style=\"height: 525px; width: 100%;\" class=\"plotly-graph-div\"></div><script type=\"text/javascript\">require([\"plotly\"], function(Plotly) { window.PLOTLYENV=window.PLOTLYENV || {};window.PLOTLYENV.BASE_URL=\"https://plot.ly\";Plotly.newPlot(\"d1f7cc30-40af-4b9e-9288-30b5f7268723\", [{\"type\": \"scatter\", \"x\": [1, 2, 3, 4], \"y\": [4, 3, 2, 1]}], {\"title\": \"hello world\"}, {\"showLink\": true, \"linkText\": \"Export to plot.ly\"})});</script>"
      ],
      "text/vnd.plotly.v1+html": [
       "<div id=\"d1f7cc30-40af-4b9e-9288-30b5f7268723\" style=\"height: 525px; width: 100%;\" class=\"plotly-graph-div\"></div><script type=\"text/javascript\">require([\"plotly\"], function(Plotly) { window.PLOTLYENV=window.PLOTLYENV || {};window.PLOTLYENV.BASE_URL=\"https://plot.ly\";Plotly.newPlot(\"d1f7cc30-40af-4b9e-9288-30b5f7268723\", [{\"type\": \"scatter\", \"x\": [1, 2, 3, 4], \"y\": [4, 3, 2, 1]}], {\"title\": \"hello world\"}, {\"showLink\": true, \"linkText\": \"Export to plot.ly\"})});</script>"
      ]
     },
     "metadata": {},
     "output_type": "display_data"
    }
   ],
   "source": [
    "import plotly\n",
    "from plotly.graph_objs import Scatter, Layout\n",
    "\n",
    "plotly.offline.init_notebook_mode(connected=True)\n",
    "\n",
    "plotly.offline.iplot({\n",
    "    \"data\": [Scatter(x=[1, 2, 3, 4], y=[4, 3, 2, 1])],\n",
    "    \"layout\": Layout(title=\"hello world\")\n",
    "})"
   ]
  }
 ],
 "metadata": {
  "kernelspec": {
   "display_name": "Python 3",
   "language": "python",
   "name": "python3"
  },
  "language_info": {
   "codemirror_mode": {
    "name": "ipython",
    "version": 3
   },
   "file_extension": ".py",
   "mimetype": "text/x-python",
   "name": "python",
   "nbconvert_exporter": "python",
   "pygments_lexer": "ipython3",
   "version": "3.6.3"
  }
 },
 "nbformat": 4,
 "nbformat_minor": 2
}
